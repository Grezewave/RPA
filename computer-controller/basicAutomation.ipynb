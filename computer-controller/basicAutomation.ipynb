{
 "cells": [
  {
   "cell_type": "code",
   "execution_count": 23,
   "metadata": {},
   "outputs": [
    {
     "name": "stdout",
     "output_type": "stream",
     "text": [
      "Point(x=1026, y=870)\n"
     ]
    }
   ],
   "source": [
    "import pyautogui as pg\n",
    "\n",
    "pg.sleep(4)\n",
    "print(pg.position())"
   ]
  },
  {
   "cell_type": "code",
   "execution_count": 8,
   "metadata": {},
   "outputs": [],
   "source": [
    "# search for notepad\n",
    "pg.moveTo(x=535, y=889)\n",
    "pg.click(x=535, y=889)\n",
    "\n",
    "pg.sleep(1)\n",
    "\n",
    "pg.typewrite(\"notepad\")"
   ]
  },
  {
   "cell_type": "code",
   "execution_count": 9,
   "metadata": {},
   "outputs": [],
   "source": [
    "# open calculator\n",
    "pg.moveTo(x=535, y=889)\n",
    "pg.click(x=535, y=889)\n",
    "\n",
    "pg.sleep(1)\n",
    "pg.click(x=955, y=452)"
   ]
  },
  {
   "cell_type": "code",
   "execution_count": 26,
   "metadata": {},
   "outputs": [],
   "source": [
    "# maximize chrome already open\n",
    "pg.click(x=980, y=875)\n",
    "pg.sleep(1)\n",
    "pg.click(x=1065, y=769)\n",
    "pg.sleep(1)\n",
    "pg.hotkey('ctrl', 'n')\n",
    "pg.sleep(1)\n",
    "pg.click(x=712, y=70)\n",
    "pg.sleep(1)\n",
    "pg.typewrite(\"Dolar hoje\")\n",
    "pg.press('enter')\n",
    "pg.sleep(3)\n",
    "pg.hotkey('ctrl', 'w')\n",
    "pg.click(x=1026, y=870)"
   ]
  },
  {
   "cell_type": "code",
   "execution_count": 44,
   "metadata": {},
   "outputs": [],
   "source": [
    "pg.sleep(1)\n",
    "pg.hotkey('win', 'r')\n",
    "pg.sleep(1)\n",
    "pg.typewrite('notepad')\n",
    "pg.sleep(1)\n",
    "pg.press('enter')\n",
    "pg.sleep(2)\n",
    "pg.typewrite('Notepad!')\n",
    "activeWindow = pg.getActiveWindow()\n",
    "pg.sleep(3)\n",
    "activeWindow.close()"
   ]
  },
  {
   "cell_type": "code",
   "execution_count": null,
   "metadata": {},
   "outputs": [],
   "source": []
  }
 ],
 "metadata": {
  "kernelspec": {
   "display_name": "base",
   "language": "python",
   "name": "python3"
  },
  "language_info": {
   "codemirror_mode": {
    "name": "ipython",
    "version": 3
   },
   "file_extension": ".py",
   "mimetype": "text/x-python",
   "name": "python",
   "nbconvert_exporter": "python",
   "pygments_lexer": "ipython3",
   "version": "3.10.9"
  }
 },
 "nbformat": 4,
 "nbformat_minor": 2
}
