{
 "cells": [
  {
   "cell_type": "code",
   "execution_count": 28,
   "metadata": {},
   "outputs": [],
   "source": [
    "from selenium import webdriver\n",
    "from selenium.webdriver.common.keys import Keys\n",
    "from selenium.webdriver.common.by import By\n",
    "import pyautogui\n",
    "\n",
    "browser = webdriver.Chrome()\n",
    "\n",
    "browser.get('https://www.google.com/')"
   ]
  },
  {
   "cell_type": "code",
   "execution_count": 29,
   "metadata": {},
   "outputs": [
    {
     "name": "stdout",
     "output_type": "stream",
     "text": [
      "4,92\n"
     ]
    }
   ],
   "source": [
    "pyautogui.sleep(2)\n",
    "browser.find_element(By.NAME, 'q').send_keys(\"Dolar\")\n",
    "browser.find_element(By.NAME, 'q').send_keys(Keys.RETURN)\n",
    "pyautogui.sleep(2)\n",
    "dolarValue = browser.find_element(By.XPATH, '//*[@id=\"knowledge-currency__updatable-data-column\"]/div[1]/div[2]/span[1]').text\n",
    "print(dolarValue)"
   ]
  },
  {
   "cell_type": "code",
   "execution_count": 30,
   "metadata": {},
   "outputs": [
    {
     "name": "stdout",
     "output_type": "stream",
     "text": [
      "5,35\n"
     ]
    }
   ],
   "source": [
    "pyautogui.sleep(2)\n",
    "browser.find_element(By.NAME, 'q').send_keys(\"\")\n",
    "pyautogui.press('tab')\n",
    "pyautogui.press('enter')\n",
    "browser.find_element(By.NAME, 'q').send_keys(\"Euro\")\n",
    "browser.find_element(By.NAME, 'q').send_keys(Keys.RETURN)\n",
    "pyautogui.sleep(2)\n",
    "euroValue = browser.find_element(By.XPATH, '//*[@id=\"knowledge-currency__updatable-data-column\"]/div[1]/div[2]/span[1]').text\n",
    "print(euroValue)"
   ]
  }
 ],
 "metadata": {
  "kernelspec": {
   "display_name": "base",
   "language": "python",
   "name": "python3"
  },
  "language_info": {
   "codemirror_mode": {
    "name": "ipython",
    "version": 3
   },
   "file_extension": ".py",
   "mimetype": "text/x-python",
   "name": "python",
   "nbconvert_exporter": "python",
   "pygments_lexer": "ipython3",
   "version": "3.10.9"
  }
 },
 "nbformat": 4,
 "nbformat_minor": 2
}
